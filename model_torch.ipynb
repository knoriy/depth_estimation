{
  "nbformat": 4,
  "nbformat_minor": 0,
  "metadata": {
    "colab": {
      "name": "model_torch.ipynb",
      "provenance": [],
      "private_outputs": true,
      "collapsed_sections": [],
      "authorship_tag": "ABX9TyPx5TY00/g0zN9cxArBiOJT",
      "include_colab_link": true
    },
    "kernelspec": {
      "name": "python3",
      "display_name": "Python 3"
    }
  },
  "cells": [
    {
      "cell_type": "markdown",
      "metadata": {
        "id": "view-in-github",
        "colab_type": "text"
      },
      "source": [
        "<a href=\"https://colab.research.google.com/github/knoriy/depth_estimation/blob/master/model_torch.ipynb\" target=\"_parent\"><img src=\"https://colab.research.google.com/assets/colab-badge.svg\" alt=\"Open In Colab\"/></a>"
      ]
    },
    {
      "cell_type": "markdown",
      "metadata": {
        "id": "L0irb-D1LGp9",
        "colab_type": "text"
      },
      "source": [
        "# Setup"
      ]
    },
    {
      "cell_type": "code",
      "metadata": {
        "id": "Cex29vw0Kb20",
        "colab_type": "code",
        "colab": {}
      },
      "source": [
        "import torch\n",
        "import torch.nn as nn\n",
        "import torch.nn.functional as F\n",
        "import torchvision\n",
        "import torchvision.utils as vutils\n",
        "import torchvision.models as models\n",
        "import torchvision.transforms as transforms\n"
      ],
      "execution_count": 0,
      "outputs": []
    },
    {
      "cell_type": "code",
      "metadata": {
        "id": "o7r-Bu5RKt3i",
        "colab_type": "code",
        "colab": {}
      },
      "source": [
        "# import os\n",
        "# import time\n",
        "# import tqdm\n",
        "# import shutil\n",
        "# import imageio\n",
        "# import PIL.Image\n",
        "import numpy as np\n",
        "import pandas as pd\n",
        "import matplotlib.pyplot as plt\n",
        "import IPython.display as display"
      ],
      "execution_count": 0,
      "outputs": []
    },
    {
      "cell_type": "markdown",
      "metadata": {
        "id": "FGKIg16VLJje",
        "colab_type": "text"
      },
      "source": [
        "## Globals"
      ]
    },
    {
      "cell_type": "code",
      "metadata": {
        "id": "kj3fBdx3LDJu",
        "colab_type": "code",
        "colab": {}
      },
      "source": [
        "EPOCHS = 1000  # The number of itteration for training\n",
        "BATCH_SIZE = 16\n",
        "\n",
        "\n",
        "LEARNING_RATE = 1e-3\n",
        "WEIGHT_DECAY  = 0\n",
        "\n",
        "IMG_WIDTH = IMG_HEIGHT = 28"
      ],
      "execution_count": 0,
      "outputs": []
    },
    {
      "cell_type": "code",
      "metadata": {
        "id": "IICasr4sLTzk",
        "colab_type": "code",
        "colab": {}
      },
      "source": [
        "SOURCE_DATA_DIR = \"/content/Data\"\n",
        "CHECKPOINT_DIR  = \"/content/checkpoint\"\n",
        "OUTPUT_DIR      = \"/content/output\""
      ],
      "execution_count": 0,
      "outputs": []
    },
    {
      "cell_type": "markdown",
      "metadata": {
        "id": "v0ooHxSJNc-q",
        "colab_type": "text"
      },
      "source": [
        "# Utils"
      ]
    },
    {
      "cell_type": "code",
      "metadata": {
        "id": "hKai6H9PNegQ",
        "colab_type": "code",
        "colab": {}
      },
      "source": [
        "def im_show(tensor):\n",
        "  if len(tensor.shape) == 4:\n",
        "    tensor_image = image.view(image.shape[2], image.shape[3], image.shape[1])\n",
        "    plt.imshow(tensor_image.detach().numpy() )\n",
        "    plt.show()\n",
        "  else:\n",
        "    tensor_image = tensor.view(tensor.shape[1], tensor.shape[2], tensor.shape[0])\n",
        "    plt.imshow(tensor_image.detach().numpy() )\n",
        "    plt.show()"
      ],
      "execution_count": 0,
      "outputs": []
    },
    {
      "cell_type": "code",
      "metadata": {
        "id": "Gq6_KP7FxQgH",
        "colab_type": "code",
        "colab": {}
      },
      "source": [
        "def imshow(img):\n",
        "    img = img / 2 + 0.5     # unnormalize\n",
        "    npimg = img.numpy()\n",
        "    plt.imshow(np.transpose(npimg, (1, 2, 0)))\n",
        "    plt.show()"
      ],
      "execution_count": 0,
      "outputs": []
    },
    {
      "cell_type": "markdown",
      "metadata": {
        "id": "OQDZ4JgHEjXC",
        "colab_type": "text"
      },
      "source": [
        "## Ben's dataloader"
      ]
    },
    {
      "cell_type": "code",
      "metadata": {
        "id": "mokQLQJ5Eotq",
        "colab_type": "code",
        "colab": {}
      },
      "source": [
        "import csv\n",
        "with open('../data_descriptions.csv', newline='') as csvfile: ###### data_descriptions csv must be in this relative location\n",
        "  spamreader = csv.reader(csvfile, delimiter=',', quotechar='|')\n",
        "\n",
        "  for count, row in enumerate(spamreader):\n",
        "    if count == 0:\n",
        "      folder_names = row\n",
        "    else:\n",
        "      num_files = row\n",
        "\n",
        "\n",
        "for i in range(len(num_files)):\n",
        "  num_files[i] = int(num_files[i])\n",
        "\n",
        "list_of_numbers   = [\"{0:05}\".format(i) for i in range(1, sum(num_files)+1)]\n",
        "\n",
        "colour_filenames  = [f\"colour_{num}.raw\" for num in list_of_numbers]\n",
        "depth_filenames   = [f\"colour_{num}.raw\" for num in list_of_numbers]\n",
        "\n",
        "# for num in list_of_numbers:\n",
        "#   colour_filenames.append(f\"colour_{num}.raw\")\n",
        "#   depth_filenames.append(f\"depth_{num}.raw\")\n",
        "\n",
        "\n",
        "class ModerateDataset(Dataset):\n",
        "  def __init__(self, col_dir='', depth_dir='', transform=None, trans_on=False):\n",
        "    self.path_names = {}\n",
        "    for folder in folder_names:\n",
        "      self.path_names[f\"{folder}\"] = {}\n",
        "    # for folder in folder_names:\n",
        "      self.path_names[f'{folder}']['colour'] = {}\n",
        "      self.path_names[f'{folder}']['depth'] = {}\n",
        "    for i in range(1, num_files[0]):\n",
        "      self.path_names['Sunny']['colour'][f\"{i}\"] = {}\n",
        "      self.path_names['Sunny']['depth'][f\"{i}\"] = {}\n",
        "\n",
        "    print(\"*************MAKE SURE THE PATH FILE IN THE FOR LOOP IS THE BASE IMAGE DIRECTORY ON YOUR COMPUTER**************\")\n",
        "\n",
        "    count = 0\n",
        "    for folder in folder_names:\n",
        "      for i in range(0, num_files[folder_names.index(folder)]):\n",
        "        self.path_names[f'{folder}']['colour'][f'{i+1}'] = Path(f\"C:/Users/Ben/OneDrive - Bournemouth University/Computer Vision/Moderate collection/{folder}/colour/{colour_filenames[count+i]}\")  ## Change this path here!!!!\n",
        "        self.path_names[f'{folder}']['depth'][f'{i+1}'] = Path(f\"C:/Users/Ben/OneDrive - Bournemouth University/Computer Vision/Moderate collection/{folder}/depth/{depth_filenames[count+i]}\")   ## Change this path here!!!!\n",
        "      count = count + num_files[folder_names.index(folder)]\n",
        "    \n",
        "    self.transform  = transform\n",
        "    self.col_dir    = col_dir\n",
        "    self.depth_dir  = depth_dir\n",
        "    self.trans_on   = trans_on\n",
        "\n",
        "  def __getitem__(self,idx):\n",
        "    if idx == 0:\n",
        "      self.col_dir    = self.path_names[f'{folder_names[0]}']['colour'][f'{idx+1}']\n",
        "      self.depth_dir  = self.path_names[f'{folder_names[0]}']['depth'][f'{idx+1}']\n",
        "  \n",
        "    if (idx>0 and idx <= num_files[0]):  ## 1-500\n",
        "      self.col_dir    = self.path_names[f'{folder_names[0]}']['colour'][f'{idx}']\n",
        "      self.depth_dir  = self.path_names[f'{folder_names[0]}']['depth'][f'{idx}']\n",
        "\n",
        "    elif (idx > num_files[0] and idx < (sum(num_files[:2])+1)): ## 501 - 1500\n",
        "      self.col_dir    = self.path_names[f'{folder_names[1]}']['colour'][f'{idx-num_files[0]}']\n",
        "      self.depth_dir  = self.path_names[f'{folder_names[1]}']['depth'][f'{idx-num_files[0]}']\n",
        "\n",
        "    elif (idx > sum(num_files[:2]) and idx < (sum(num_files[:3])+1) ): ## 1501 - 2600\n",
        "      self.col_dir    = self.path_names[f'{folder_names[2]}']['colour'][f'{idx-sum(num_files[:2])}'] # -1500\n",
        "      self.depth_dir  = self.path_names[f'{folder_names[2]}']['depth'][f'{idx-sum(num_files[:2])}']\n",
        "\n",
        "    elif (idx > sum(num_files[:3]) and idx < (sum(num_files[:4])+1) ): ## 2601 - 5600\n",
        "      self.col_dir    = self.path_names[f'{folder_names[3]}']['colour'][f'{idx-sum(num_files[:3])}'] #-2600\n",
        "      self.depth_dir  = self.path_names[f'{folder_names[3]}']['depth'][f'{idx-sum(num_files[:3])}']\n",
        "        \n",
        "    elif (idx > sum(num_files[:4]) and idx < (sum(num_files[:5])+1) ): ## 5601 - 7857\n",
        "      self.col_dir    = self.path_names[f'{folder_names[4]}']['colour'][f'{idx-sum(num_files[:4])}'] # -5600\n",
        "      self.depth_dir  = self.path_names[f'{folder_names[4]}']['depth'][f'{idx-sum(num_files[:4])}']\n",
        "\n",
        "    elif (idx > sum(num_files)):\n",
        "        raise NameError('Index outside of range')\n",
        "\n",
        "    col_img = import_raw_colour_image(self.col_dir)\n",
        "    depth_img = import_raw_depth_image(self.depth_dir)\n",
        "\n",
        "    if self.trans_on == True:\n",
        "      col_img   = torch.from_numpy(np.flip(col_img,axis=0).copy()) # apply any transforms\n",
        "      depth_img = torch.from_numpy(np.flip(depth_img,axis=0).copy()) # apply any transforms\n",
        "      col_img   = col_img.transpose(0,2)\n",
        "      col_img   = col_img.transpose(1,2)\n",
        "\n",
        "    if self.transform: # if any transforms were given to initialiser\n",
        "      col_img = self.transform(col_img) # apply any transforms\n",
        "      \n",
        "    return col_img, depth_img\n",
        "  \n",
        "  def __len__(self):\n",
        "      return sum(num_files)"
      ],
      "execution_count": 0,
      "outputs": []
    },
    {
      "cell_type": "code",
      "metadata": {
        "id": "PKb2_ZtUFaz-",
        "colab_type": "code",
        "colab": {}
      },
      "source": [
        "total_Data = ModerateDataset(trans_on=True)  ## instancing the dataset"
      ],
      "execution_count": 0,
      "outputs": []
    },
    {
      "cell_type": "markdown",
      "metadata": {
        "id": "u7pSN6snFfrV",
        "colab_type": "text"
      },
      "source": [
        "### Train/test split"
      ]
    },
    {
      "cell_type": "code",
      "metadata": {
        "id": "YS0S2EDAFe_V",
        "colab_type": "code",
        "colab": {}
      },
      "source": [
        "train_size = int(0.8 * len(total_Data))\n",
        "val_size = int((len(total_Data) - train_size)/2)\n",
        "\n",
        "train_dataset, validation_dataset, test_dataset = torch.utils.data.random_split(total_Data, [train_size, val_size, val_size])\n",
        "\n",
        "\n",
        "train_dl        = DataLoader(train_dataset,       batch_size=BATCH_SIZE, shuffle=True,  num_workers=0)\n",
        "validation_dl   = DataLoader(validation_dataset,  batch_size=BATCH_SIZE, shuffle=True,  num_workers=0)\n",
        "test_dl         = DataLoader(test_dataset,        batch_size=BATCH_SIZE, shuffle=True,  num_workers=0)"
      ],
      "execution_count": 0,
      "outputs": []
    },
    {
      "cell_type": "markdown",
      "metadata": {
        "id": "BRzu5EXPjGPd",
        "colab_type": "text"
      },
      "source": [
        "## Kari's Dataloader\n"
      ]
    },
    {
      "cell_type": "code",
      "metadata": {
        "id": "T1O9CDnKjKQW",
        "colab_type": "code",
        "colab": {}
      },
      "source": [
        ""
      ],
      "execution_count": 0,
      "outputs": []
    },
    {
      "cell_type": "markdown",
      "metadata": {
        "id": "Hk0tiQMwNhEl",
        "colab_type": "text"
      },
      "source": [
        "# Model"
      ]
    },
    {
      "cell_type": "code",
      "metadata": {
        "id": "pVQiNu9fx3Ee",
        "colab_type": "code",
        "colab": {}
      },
      "source": [
        "class ResBlock(nn.Module):\n",
        "  def __init__(self, in_channels, out_channels, kernel_size, stride, padding, padding_mode=\"zeros\"):\n",
        "    super().__init__()\n",
        "    self.Conv2d_1   = nn.Conv2d(in_channels, out_channels, kernel_size, stride, padding, padding_mode=padding_mode)\n",
        "    self.Conv2d_2   = nn.Conv2d(in_channels, out_channels, kernel_size, stride, padding, padding_mode=padding_mode)\n",
        "    self.BatchNorm2d  = nn.BatchNorm2d(out_channels)\n",
        "    self.ReLU       = nn.ReLU()\n",
        "\n",
        "  def forward(self, x):\n",
        "    x_short = x\n",
        "\n",
        "    x = self.Conv2d_1(x)\n",
        "    x = self.BatchNorm2d(x)\n",
        "    x = self.ReLU(x)\n",
        "\n",
        "    x = self.Conv2d_2(x)\n",
        "    x = self.BatchNorm2d(x)\n",
        "    x = torch.add(x, x_short)\n",
        "    x = self.ReLU(x)\n",
        "\n",
        "    return x\n",
        "\n",
        "class ConvBlock(nn.Module):\n",
        "  def __init__(self, in_channels, out_channels, kernel_size, stride, padding, padding_mode=\"zeros\"):\n",
        "    super().__init__()\n",
        "    self.conv2d_1   = nn.Conv2d(in_channels, out_channels, kernel_size, stride, padding, padding_mode=padding_mode)\n",
        "    self.batchNorm  = nn.BatchNorm2d(out_channels)\n",
        "    self.MaxPool2d  = nn.MaxPool2d(kernel_size, stride, padding)\n",
        "    self.Dropout2d  = nn.Dropout2d(0.1)\n",
        "    self.ReLU       = nn.ReLU()\n",
        "\n",
        "  def forward(self, x):\n",
        "\n",
        "    x = self.conv2d_1(x)\n",
        "    x = self.batchNorm(x)\n",
        "    # x = self.MaxPool2d(x)\n",
        "    x = self.Dropout2d(x)\n",
        "    x = self.ReLU(x)\n",
        "\n",
        "    return x\n",
        "\n",
        "class DeConvBlock(nn.Module):\n",
        "  def __init__(self, in_channels, out_channels, kernel_size, stride, padding, padding_mode=\"zeros\", scale_factor=2):\n",
        "    super().__init__()\n",
        "    self.conv2d_1   = nn.Conv2d(in_channels, out_channels, kernel_size, stride, padding, padding_mode=padding_mode)\n",
        "    self.batchNorm  = nn.BatchNorm2d(out_channels)\n",
        "    self.UpSample2d = nn.UpsamplingNearest2d(scale_factor=scale_factor)\n",
        "    self.Dropout2d  = nn.Dropout2d(0.1)\n",
        "    self.ReLU       = nn.ReLU()\n",
        "\n",
        "  def forward(self, x):\n",
        "\n",
        "    x = self.conv2d_1(x)\n",
        "    x = self.batchNorm(x)\n",
        "    x = self.UpSample2d(x)\n",
        "    x = self.Dropout2d(x)\n",
        "    x = self.ReLU(x)\n",
        "\n",
        "    return x\n",
        "\n",
        "class Model(nn.Module):\n",
        "  def __init__(self):\n",
        "    super().__init__()\n",
        "    self.ConvBlock_1    = ConvBlock(3  ,64 ,3,1,1,\"replicate\")\n",
        "    self.ConvBlock_2    = ConvBlock(64 ,128,3,2,1,\"replicate\")\n",
        "    self.ConvBlock_3    = ConvBlock(128,256,3,2,1,\"replicate\")\n",
        "\n",
        "    self.ResBlock_1     = ResBlock(256,256,3,1,1,\"replicate\")\n",
        "\n",
        "    self.DeConvBlock_1  = DeConvBlock(256,128,3,1,1,\"replicate\",2)\n",
        "    self.DeConvBlock_2  = DeConvBlock(128,64 ,3,1,1,\"replicate\",2)\n",
        "    self.DeConvBlock_3  = DeConvBlock(64 ,3  ,3,1,1,\"replicate\",1)\n",
        "\n",
        "  def forward(self, x):\n",
        "\n",
        "    x = self.ConvBlock_1(x)\n",
        "    x = self.ConvBlock_2(x)\n",
        "    x = self.ConvBlock_3(x)\n",
        "\n",
        "    # x = self.ResBlock_1(x)\n",
        "    # x = self.ResBlock_1(x)\n",
        "    # x = self.ResBlock_1(x)\n",
        "\n",
        "    x = self.DeConvBlock_1(x)\n",
        "    x = self.DeConvBlock_2(x)\n",
        "    x = self.DeConvBlock_3(x)\n",
        "\n",
        "    x = nn.Tanh()(x)\n",
        "\n",
        "    return x \n",
        "\n",
        "model = Model()\n",
        "# model.cuda"
      ],
      "execution_count": 0,
      "outputs": []
    },
    {
      "cell_type": "code",
      "metadata": {
        "id": "qSNdazoH4XDU",
        "colab_type": "code",
        "colab": {}
      },
      "source": [
        "image = model(torch.rand((1,3,256,256)))\n",
        "im_show(image)\n",
        "image.shape"
      ],
      "execution_count": 0,
      "outputs": []
    },
    {
      "cell_type": "markdown",
      "metadata": {
        "id": "_qz-bJpbNkgg",
        "colab_type": "text"
      },
      "source": [
        "## Loss"
      ]
    },
    {
      "cell_type": "code",
      "metadata": {
        "id": "UBN5naAemvpg",
        "colab_type": "code",
        "colab": {}
      },
      "source": [
        "def MSE_loss(pred, true):\n",
        "  loss = nn.MSELoss()\n",
        "  return loss(pred, true)"
      ],
      "execution_count": 0,
      "outputs": []
    },
    {
      "cell_type": "code",
      "metadata": {
        "id": "BFNEHeHyNyfr",
        "colab_type": "code",
        "colab": {}
      },
      "source": [
        "\n",
        "vgg = models.vgg16(pretrained=True)\n",
        "\n",
        "# https://towardsdatascience.com/pytorch-implementation-of-perceptual-losses-for-real-time-style-transfer-8d608e2e9902\n",
        "\n",
        "class VGGFearureExtractor(nn.Module):\n",
        "  def __init__(self, vgg):\n",
        "    super().__init__()\n",
        "    self.vgg_layers   = vgg.features\n",
        "    self.layer_names  = { '3': \"relu1_2\", '8': \"relu2_2\", '15': \"relu3_3\", '22': \"relu4_3\"}\n",
        "\n",
        "  def forward(self, x):\n",
        "    output = {}\n",
        "    for name, module in self.vgg_layers._modules.items():\n",
        "      x = module(x)\n",
        "      if name in self.layer_names:\n",
        "          output[self.layer_names[name]] = x\n",
        "\n",
        "    return output\n",
        "\n",
        "vgg_extractor = VGGFearureExtractor(vgg)\n",
        "\n",
        "def VGG_loss(pred, true):\n",
        "\n",
        "  prediction_features = vgg_extractor(pred)\n",
        "  true_features = vgg_extractor(true)\n",
        "  losses = 0\n",
        "\n",
        "  for key in prediction_features.keys():\n",
        "    loss = prediction_features[key] - true_features[key]\n",
        "    loss = torch.mean(loss**2)\n",
        "    losses = torch.add(loss, losses)\n",
        "\n",
        "  return losses\n",
        "\n",
        "img = torch.rand((1,3,256,256))\n",
        "# VGG_loss(torch.rand((1,3,256,256)),torch.rand((1,3,256,256)))\n",
        "# VGG_loss(img, img)\n"
      ],
      "execution_count": 0,
      "outputs": []
    },
    {
      "cell_type": "code",
      "metadata": {
        "id": "gi-emCpvhqbi",
        "colab_type": "code",
        "colab": {}
      },
      "source": [
        "\n",
        "resnet = models.resnet18(pretrained=True)\n",
        "\n",
        "class ResNetFeatureExtractor(nn.Module):\n",
        "  def __init__(self, Resnet):\n",
        "    super().__init__()\n",
        "    self.Feature_block = [4,5,6,7]\n",
        "\n",
        "    self.levels = []\n",
        "    for i in self.Feature_block:\n",
        "      self.levels.append(nn.Sequential(*list(resnet.children())[:i]))\n",
        "\n",
        "\n",
        "  def forward(self, x):\n",
        "    output = []\n",
        "    for i, level in enumerate(self.levels):\n",
        "      output.append(level(x))\n",
        "\n",
        "    return output\n",
        "\n",
        "resnet_extractor = ResNetFeatureExtractor(resnet)\n",
        "\n",
        "# resnet_extractor(torch.rand((1,3,256,256)))\n",
        "\n",
        "\n",
        "def ResNet_loss(pred, true):\n",
        "\n",
        "  prediction_features = resnet_extractor(pred)\n",
        "  true_features = resnet_extractor(true)\n",
        "  losses = 0\n",
        "\n",
        "  for i, block in enumerate(prediction_features):\n",
        "    loss = prediction_features[i] - true_features[i]\n",
        "    loss = torch.mean(loss**2)\n",
        "    losses = torch.add(loss, losses)\n",
        "    \n",
        "\n",
        "  return losses\n",
        "\n",
        "# ResNet_loss(torch.rand((1,3,256,256)),torch.rand((1,3,256,256)))\n",
        "ResNet_loss(img, img)\n"
      ],
      "execution_count": 0,
      "outputs": []
    },
    {
      "cell_type": "markdown",
      "metadata": {
        "id": "x94AQTn9NwPQ",
        "colab_type": "text"
      },
      "source": [
        "## Optimizer"
      ]
    },
    {
      "cell_type": "code",
      "metadata": {
        "id": "ZNL77QYTNyiJ",
        "colab_type": "code",
        "colab": {}
      },
      "source": [
        "optimizer = torch.optim.Adam(model.parameters(), lr=LEARNING_RATE, weight_decay=WEIGHT_DECAY)"
      ],
      "execution_count": 0,
      "outputs": []
    },
    {
      "cell_type": "markdown",
      "metadata": {
        "id": "SKtBfwdhOFD6",
        "colab_type": "text"
      },
      "source": [
        "# Train"
      ]
    },
    {
      "cell_type": "code",
      "metadata": {
        "id": "g6DpcfiiOGob",
        "colab_type": "code",
        "colab": {}
      },
      "source": [
        "# %%time\n",
        "\n",
        "def checkpoint(model, dir):\n",
        "  return torch.utils.checkpoint.checkpoint(model)\n",
        "\n",
        "images = [img]\n",
        "\n",
        "def train_loop():\n",
        "  history = []\n",
        "  for epoch in range(100):\n",
        "    for img in images:\n",
        "      model.zero_grad()\n",
        "\n",
        "      prediction = model(img)\n",
        "      \n",
        "      loss = VGG_loss(prediction, img)\n",
        "      history.append(loss.detach().numpy().tolist())\n",
        "\n",
        "      loss.backward()\n",
        "\n",
        "      optimizer.step()\n",
        "    print(\"Loss: {}\".format(loss))\n",
        "    with torch.no_grad():\n",
        "      im_show(prediction)\n",
        "      display.clear_output(wait=True)\n",
        "  return history, prediction\n",
        "\n",
        "\n",
        "history, final_prediction = train_loop()"
      ],
      "execution_count": 0,
      "outputs": []
    },
    {
      "cell_type": "code",
      "metadata": {
        "id": "5VU3I1idh8b2",
        "colab_type": "code",
        "colab": {}
      },
      "source": [
        "s = pd.Series(history)\n",
        "s.plot.line()"
      ],
      "execution_count": 0,
      "outputs": []
    },
    {
      "cell_type": "code",
      "metadata": {
        "id": "1gpoR5_LElYU",
        "colab_type": "code",
        "colab": {}
      },
      "source": [
        "torch.mean(final_prediction - img)"
      ],
      "execution_count": 0,
      "outputs": []
    },
    {
      "cell_type": "markdown",
      "metadata": {
        "id": "Kh0RvCuaTyPR",
        "colab_type": "text"
      },
      "source": [
        "# Evaluate"
      ]
    },
    {
      "cell_type": "code",
      "metadata": {
        "id": "_M3lt17bT0Hg",
        "colab_type": "code",
        "colab": {}
      },
      "source": [
        "with torch.no_grad():\n",
        "  for image in images:\n",
        "    prediction = net(image.view(-1, IMG_WIDTH*IMG_HEIGHT))\n",
        "    print(loss(prediction, image))"
      ],
      "execution_count": 0,
      "outputs": []
    },
    {
      "cell_type": "markdown",
      "metadata": {
        "id": "1k6uT-EMOHLF",
        "colab_type": "text"
      },
      "source": [
        "# Save model"
      ]
    },
    {
      "cell_type": "code",
      "metadata": {
        "id": "-IafENM9OOXG",
        "colab_type": "code",
        "colab": {}
      },
      "source": [
        "def save_model(dir, model):\n",
        "  torch.save(model.state_dict(), dir)\n",
        "\n",
        "save_model(CHECKPOINT_DIR, net)"
      ],
      "execution_count": 0,
      "outputs": []
    },
    {
      "cell_type": "markdown",
      "metadata": {
        "id": "LAlbh6ehOOm1",
        "colab_type": "text"
      },
      "source": [
        "# Load Model"
      ]
    },
    {
      "cell_type": "code",
      "metadata": {
        "id": "oyQX_rauORLJ",
        "colab_type": "code",
        "colab": {}
      },
      "source": [
        "net = Net()\n",
        "net.load_state_dict(torch.load(CHECKPOINT_DIR))"
      ],
      "execution_count": 0,
      "outputs": []
    }
  ]
}