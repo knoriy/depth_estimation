{
  "nbformat": 4,
  "nbformat_minor": 0,
  "metadata": {
    "colab": {
      "name": "model_torch.ipynb",
      "provenance": [],
      "private_outputs": true,
      "collapsed_sections": [],
      "authorship_tag": "ABX9TyNM0Wncvx0LVbSfnC0Jqt2Y",
      "include_colab_link": true
    },
    "kernelspec": {
      "name": "python3",
      "display_name": "Python 3"
    }
  },
  "cells": [
    {
      "cell_type": "markdown",
      "metadata": {
        "id": "view-in-github",
        "colab_type": "text"
      },
      "source": [
        "<a href=\"https://colab.research.google.com/github/knoriy/depth_estimation/blob/master/model_torch.ipynb\" target=\"_parent\"><img src=\"https://colab.research.google.com/assets/colab-badge.svg\" alt=\"Open In Colab\"/></a>"
      ]
    },
    {
      "cell_type": "markdown",
      "metadata": {
        "id": "L0irb-D1LGp9",
        "colab_type": "text"
      },
      "source": [
        "# Setup"
      ]
    },
    {
      "cell_type": "code",
      "metadata": {
        "id": "Cex29vw0Kb20",
        "colab_type": "code",
        "colab": {}
      },
      "source": [
        "import torch\n",
        "import torch.nn as nn\n",
        "import torch.nn.functional as F\n",
        "import torchvision.utils as vutils"
      ],
      "execution_count": 0,
      "outputs": []
    },
    {
      "cell_type": "code",
      "metadata": {
        "id": "o7r-Bu5RKt3i",
        "colab_type": "code",
        "colab": {}
      },
      "source": [
        "# import os\n",
        "# import time\n",
        "# import tqdm\n",
        "# import shutil\n",
        "# import imageio\n",
        "# import PIL.Image\n",
        "# import numpy as np\n",
        "# import pandas as pd\n",
        "# import matplotlib.pyplot as plt\n",
        "# import IPython.display as display"
      ],
      "execution_count": 0,
      "outputs": []
    },
    {
      "cell_type": "markdown",
      "metadata": {
        "id": "FGKIg16VLJje",
        "colab_type": "text"
      },
      "source": [
        "## Globals"
      ]
    },
    {
      "cell_type": "code",
      "metadata": {
        "id": "kj3fBdx3LDJu",
        "colab_type": "code",
        "colab": {}
      },
      "source": [
        "EPOCHS = 1000  # The number of itteration for training\n",
        "\n",
        "LEARNING_RATE = 1e-3\n",
        "WEIGHT_DECAY  = 0\n",
        "\n",
        "IMG_WIDTH = IMG_HEIGHT = 28"
      ],
      "execution_count": 0,
      "outputs": []
    },
    {
      "cell_type": "code",
      "metadata": {
        "id": "IICasr4sLTzk",
        "colab_type": "code",
        "colab": {}
      },
      "source": [
        "SOURCE_DATA_DIR = \"/content/Data\"\n",
        "CHECKPOINT_DIR  = \"/content/checkpoint\"\n",
        "OUTPUT_DIR      = \"/content/output\""
      ],
      "execution_count": 0,
      "outputs": []
    },
    {
      "cell_type": "markdown",
      "metadata": {
        "id": "v0ooHxSJNc-q",
        "colab_type": "text"
      },
      "source": [
        "# Utils"
      ]
    },
    {
      "cell_type": "code",
      "metadata": {
        "id": "hKai6H9PNegQ",
        "colab_type": "code",
        "colab": {}
      },
      "source": [
        ""
      ],
      "execution_count": 0,
      "outputs": []
    },
    {
      "cell_type": "markdown",
      "metadata": {
        "id": "Hk0tiQMwNhEl",
        "colab_type": "text"
      },
      "source": [
        "# Model"
      ]
    },
    {
      "cell_type": "code",
      "metadata": {
        "id": "ZbZJxm7liMUA",
        "colab_type": "code",
        "colab": {}
      },
      "source": [
        "class Model(nn.Module):\n",
        "  def __init__(self):\n",
        "    super(Model, self).__init__()\n",
        "    self.relu = nn.ReLU\n",
        "    self.Dropout2d = nn.Dropout2d(0.1)\n",
        "    self.MaxPool2d = nn.MaxPool2d(3, 1)\n",
        "    self.BatchNorm2d = nn.BatchNorm2d\n",
        "    self.conv1 = self.conv_block\n",
        "\n",
        "  def conv_block(self, x, filters, kernel_size, stride=1, padding_mode='zeros'):\n",
        "    x = nn.Conv2d(out_channels=filters, kernel_size=kernel_size, stride=stride, padding_mode=padding_mode)(x)\n",
        "    x = self.BatchNorm2d(x)\n",
        "    x = self.relu(x)\n",
        "    x = self.MaxPool2d(x)\n",
        "    x = self.Dropout2d(x)\n",
        "    return x\n",
        "\n",
        "  # Decoder\n",
        "  def deconv_block(self, x, filters, kernel_size, stride=1, padding_mode='zeros'):\n",
        "    x = nn.ConvTranspose2d(out_channels=filters, kernel_size=kernel_size, stride=stride, padding_mode=padding_mode)(x)\n",
        "    x = self.BatchNorm2d(x)\n",
        "    x = self.relu(x)\n",
        "    x = self.Dropout2d(x)\n",
        "    return x\n",
        "\n",
        "  # Residual\n",
        "  def identity_block(self, x, filters, kernel_size, padding_mode='zeros'):\n",
        "\n",
        "    x_shortcut = x\n",
        "\n",
        "    x = nn.Conv2d(out_channels=filters, kernel_size=kernel_size, stride=1, padding_mode=padding_mode)(x)\n",
        "    x = self.BatchNorm2d(x)\n",
        "    x = self.relu(x)\n",
        "    x = self.Dropout2d(x)\n",
        "\n",
        "    x = nn.Conv2d(out_channels=filters, kernel_size=kernel_size, stride=1, padding_mode=padding_mode)(x)\n",
        "    x = self.BatchNorm2d(x)\n",
        "    x = self.relu(x)\n",
        "    x = self.Dropout2d(x)\n",
        "\n",
        "    x = nn.Conv2d(out_channels=filters, kernel_size=kernel_size, stride=1, padding_mode=padding_mode)(x)\n",
        "    x = self.BatchNorm2d(x)\n",
        "\n",
        "    x = torch.add(x, x_shortcut)\n",
        "    x = self.relu(x)\n",
        "\n",
        "    return x\n",
        "\n",
        "  def forward(self, x):\n",
        "    #####################################################################\n",
        "    # Encoder\n",
        "    #####################################################################\n",
        "    x = self.conv_block(x=x, filters=64 , kernel_size=2, stride=1, padding_mode='replicate') \n",
        "    x = self.conv_block(x=x, filters=128, kernel_size=2, stride=2, padding_mode='replicate')\n",
        "    x = self.conv_block(x=x, filters=256, kernel_size=2, stride=2, padding_mode='replicate')\n",
        "    #####################################################################\n",
        "    # Encoder\n",
        "    #####################################################################\n",
        "\n",
        "\n",
        "\n",
        "    #####################################################################\n",
        "    # Residual Block\n",
        "    #####################################################################\n",
        "    x = self.identity_block(x=x, filters=256, stride=1, kernel_size=2, padding_mode='replicate')\n",
        "    x = self.identity_block(x=x, filters=256, stride=1, kernel_size=2, padding_mode='replicate')\n",
        "    x = self.identity_block(x=x, filters=256, stride=1, kernel_size=2, padding_mode='replicate')\n",
        "    x = self.identity_block(x=x, filters=256, stride=1, kernel_size=2, padding_mode='replicate')\n",
        "    #####################################################################\n",
        "    # Residual Block\n",
        "    #####################################################################\n",
        "\n",
        "\n",
        "    #####################################################################\n",
        "    # Encoder\n",
        "    #####################################################################\n",
        "    x = self.deconv_block(x=x, filters=256, kernel_size=2, stride=2, padding_mode='replicate')\n",
        "    x = self.deconv_block(x=x, filters=256, kernel_size=2, stride=2, padding_mode='replicate')\n",
        "    x = self.deconv_block(x=x, filters=256, kernel_size=2, stride=2, padding_mode='replicate')\n",
        "    #####################################################################\n",
        "    # Encoder\n",
        "    #####################################################################\n",
        "\n",
        "    x = nn.ConvTranspose2d(out_channels=3, kernel_size=2, stride=1, padding_mode='replicate')(x)\n",
        "    x = F.tanh()(x)\n",
        "\n",
        "    return x\n"
      ],
      "execution_count": 0,
      "outputs": []
    },
    {
      "cell_type": "code",
      "metadata": {
        "id": "wjmBwLmri-TJ",
        "colab_type": "code",
        "colab": {}
      },
      "source": [
        "class Model(nn.Module):\n",
        "  def __init__(self):\n",
        "    super(Model, self).__init__()\n",
        "    self.conv2d1 = nn.Conv2d(in_channels=(1, 3, \n",
        "                                          height, \n",
        "                                          width), out_channels=64 , kernel_size=2, stride=1, padding_mode='replicate')\n",
        "    self.conv2d2 = nn.Conv2d(in_channels=2, out_channels=128, kernel_size=2, stride=2, padding_mode='replicate')\n",
        "    self.conv2d3 = nn.Conv2d(in_channels=3, out_channels=256, kernel_size=2, stride=2, padding_mode='replicate')\n",
        "\n",
        "    self.ConvTranspose2d1 = nn.ConvTranspose2d(in_channels=3, out_channels=256, kernel_size=2, stride=2, padding_mode='replicate')\n",
        "    self.ConvTranspose2d2 = nn.ConvTranspose2d(in_channels=1, out_channels=128, kernel_size=2, stride=2, padding_mode='replicate')\n",
        "    self.ConvTranspose2d3 = nn.ConvTranspose2d(in_channels=1, out_channels=64 , kernel_size=2, stride=2, padding_mode='replicate')\n",
        "\n",
        "    self.BatchNorm2d = nn.BatchNorm2d\n",
        "    self.relu = nn.ReLU\n",
        "    self.MaxPool2d = nn.MaxPool2d(3, 1)\n",
        "    self.Dropout2d1 = nn.Dropout2d(0.1)\n",
        "\n",
        "  # Decoder\n",
        "  def deconv_block(self, x, filters, kernel_size, stride=1, padding_mode='zeros'):\n",
        "    x = nn.ConvTranspose2d(out_channels=filters, kernel_size=kernel_size, stride=stride, padding_mode=padding_mode)(x)\n",
        "    x = self.BatchNorm2d(x)\n",
        "    x = self.relu(x)\n",
        "    x = self.Dropout2d(x)\n",
        "    return x\n",
        "\n",
        "  # Residual\n",
        "  def identity_block(self, x, filters, kernel_size, padding_mode='zeros'):\n",
        "\n",
        "    x_shortcut = x\n",
        "\n",
        "    x = nn.Conv2d(out_channels=filters, kernel_size=kernel_size, stride=1, padding_mode=padding_mode)(x)\n",
        "    x = self.BatchNorm2d(x)\n",
        "    x = self.relu(x)\n",
        "    x = self.Dropout2d(x)\n",
        "\n",
        "    x = nn.Conv2d(out_channels=filters, kernel_size=kernel_size, stride=1, padding_mode=padding_mode)(x)\n",
        "    x = self.BatchNorm2d(x)\n",
        "    x = self.relu(x)\n",
        "    x = self.Dropout2d(x)\n",
        "\n",
        "    x = nn.Conv2d(out_channels=filters, kernel_size=kernel_size, stride=1, padding_mode=padding_mode)(x)\n",
        "    x = self.BatchNorm2d(x)\n",
        "\n",
        "    x = torch.add(x, x_shortcut)\n",
        "    x = self.relu(x)\n",
        "\n",
        "    return x\n",
        "\n",
        "  def forward(self, x):\n",
        "    #####################################################################\n",
        "    # Encoder\n",
        "    #####################################################################\n",
        "\n",
        "    x = self.conv2d1(x)\n",
        "    x = self.BatchNorm2d(x)\n",
        "    x = self.relu(x)\n",
        "    x = self.MaxPool2d(x)\n",
        "    x = self.Dropout2d(x)\n",
        "\n",
        "    x = self.conv2d2(x)\n",
        "    x = self.BatchNorm2d(x)\n",
        "    x = self.relu(x)\n",
        "    x = self.MaxPool2d(x)\n",
        "    x = self.Dropout2d(x)\n",
        "\n",
        "    x = self.conv2d3(x)\n",
        "    x = self.BatchNorm2d(x)\n",
        "    x = self.relu(x)\n",
        "    x = self.MaxPool2d(x)\n",
        "    x = self.Dropout2d(x)\n",
        "\n",
        "    #####################################################################\n",
        "    # Encoder\n",
        "    #####################################################################\n",
        "\n",
        "\n",
        "\n",
        "    # #####################################################################\n",
        "    # # Residual Block\n",
        "    # #####################################################################\n",
        "    # x = self.identity_block(x=x, filters=256, stride=1, kernel_size=2, padding_mode='replicate')\n",
        "    # x = self.identity_block(x=x, filters=256, stride=1, kernel_size=2, padding_mode='replicate')\n",
        "    # x = self.identity_block(x=x, filters=256, stride=1, kernel_size=2, padding_mode='replicate')\n",
        "    # x = self.identity_block(x=x, filters=256, stride=1, kernel_size=2, padding_mode='replicate')\n",
        "    # #####################################################################\n",
        "    # # Residual Block\n",
        "    # #####################################################################\n",
        "\n",
        "\n",
        "    #####################################################################\n",
        "    # Encoder\n",
        "    #####################################################################\n",
        "\n",
        "    x = self.ConvTranspose2d1(x)\n",
        "    x = self.BatchNorm2d(x)\n",
        "    x = self.relu(x)\n",
        "    x = self.Dropout2d(x)\n",
        "\n",
        "    x = self.ConvTranspose2d2(x)\n",
        "    x = self.BatchNorm2d(x)\n",
        "    x = self.relu(x)\n",
        "    x = self.Dropout2d(x)\n",
        "\n",
        "    x = self.ConvTranspose2d3(x)\n",
        "    x = self.BatchNorm2d(x)\n",
        "    x = self.relu(x)\n",
        "    x = self.Dropout2d(x)\n",
        "    #####################################################################\n",
        "    # Encoder\n",
        "    #####################################################################\n",
        "\n",
        "    x = nn.ConvTranspose2d(out_channels=3, kernel_size=2, stride=1, padding_mode='replicate')(x)\n",
        "    x = F.tanh()(x)\n",
        "\n",
        "    return x\n"
      ],
      "execution_count": 0,
      "outputs": []
    },
    {
      "cell_type": "code",
      "metadata": {
        "id": "pVQiNu9fx3Ee",
        "colab_type": "code",
        "colab": {}
      },
      "source": [
        "model = Model()\n",
        "print(model)"
      ],
      "execution_count": 0,
      "outputs": []
    },
    {
      "cell_type": "code",
      "metadata": {
        "id": "qSNdazoH4XDU",
        "colab_type": "code",
        "colab": {}
      },
      "source": [
        "# model(Some_image)"
      ],
      "execution_count": 0,
      "outputs": []
    },
    {
      "cell_type": "markdown",
      "metadata": {
        "id": "_qz-bJpbNkgg",
        "colab_type": "text"
      },
      "source": [
        "## Loss"
      ]
    },
    {
      "cell_type": "code",
      "metadata": {
        "id": "BFNEHeHyNyfr",
        "colab_type": "code",
        "colab": {}
      },
      "source": [
        "def custom_loss(pred, true):\n",
        "  loss = nn.MSELoss()\n",
        "  return loss(pred, true)"
      ],
      "execution_count": 0,
      "outputs": []
    },
    {
      "cell_type": "markdown",
      "metadata": {
        "id": "x94AQTn9NwPQ",
        "colab_type": "text"
      },
      "source": [
        "## Optimizer"
      ]
    },
    {
      "cell_type": "code",
      "metadata": {
        "id": "ZNL77QYTNyiJ",
        "colab_type": "code",
        "colab": {}
      },
      "source": [
        "optimizer = torch.optim.Adam(net.parameters(), lr=LEARNING_RATE, weight_decay=WEIGHT_DECAY)"
      ],
      "execution_count": 0,
      "outputs": []
    },
    {
      "cell_type": "markdown",
      "metadata": {
        "id": "SKtBfwdhOFD6",
        "colab_type": "text"
      },
      "source": [
        "# Train"
      ]
    },
    {
      "cell_type": "code",
      "metadata": {
        "id": "g6DpcfiiOGob",
        "colab_type": "code",
        "colab": {}
      },
      "source": [
        "def checkpoint(model, dir):\n",
        "  return torch.utils.checkpoint.checkpoint(model)\n",
        "\n",
        "def train_step():\n",
        "  return\n",
        "\n",
        "def train_loop():\n",
        "  for epoch in range(EPOCHS):\n",
        "    for img in images:\n",
        "      model.zero_grad()\n",
        "\n",
        "      prediction = model(\"INSET MODEL INPUTS HERE\")\n",
        "      \n",
        "      loss = custom_loss(prediction, img)\n",
        "      loss.backward()\n",
        "\n",
        "      optimizer.step()\n",
        "    print(\"Loss: {}\".format(loss))\n",
        "    with torch.no_grad():\n",
        "\n",
        "train_loop()"
      ],
      "execution_count": 0,
      "outputs": []
    },
    {
      "cell_type": "markdown",
      "metadata": {
        "id": "Kh0RvCuaTyPR",
        "colab_type": "text"
      },
      "source": [
        "# Evaluate"
      ]
    },
    {
      "cell_type": "code",
      "metadata": {
        "id": "_M3lt17bT0Hg",
        "colab_type": "code",
        "colab": {}
      },
      "source": [
        "with torch.no_grad():\n",
        "  for image in images:\n",
        "    prediction = net(image.view(-1, IMG_WIDTH*IMG_HEIGHT))\n",
        "    print(loss(prediction, image))"
      ],
      "execution_count": 0,
      "outputs": []
    },
    {
      "cell_type": "markdown",
      "metadata": {
        "id": "1k6uT-EMOHLF",
        "colab_type": "text"
      },
      "source": [
        "# Save model"
      ]
    },
    {
      "cell_type": "code",
      "metadata": {
        "id": "-IafENM9OOXG",
        "colab_type": "code",
        "colab": {}
      },
      "source": [
        "def save_model(dir, model):\n",
        "  torch.save(model.state_dict(), dir)\n",
        "\n",
        "save_model(CHECKPOINT_DIR, net)"
      ],
      "execution_count": 0,
      "outputs": []
    },
    {
      "cell_type": "markdown",
      "metadata": {
        "id": "LAlbh6ehOOm1",
        "colab_type": "text"
      },
      "source": [
        "# Load Model"
      ]
    },
    {
      "cell_type": "code",
      "metadata": {
        "id": "oyQX_rauORLJ",
        "colab_type": "code",
        "colab": {}
      },
      "source": [
        "net = Net()\n",
        "net.load_state_dict(torch.load(CHECKPOINT_DIR))"
      ],
      "execution_count": 0,
      "outputs": []
    }
  ]
}